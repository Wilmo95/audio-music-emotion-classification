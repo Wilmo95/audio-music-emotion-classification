{
 "cells": [
  {
   "cell_type": "code",
   "execution_count": 1,
   "metadata": {},
   "outputs": [],
   "source": [
    "import pandas as pd\n",
    "import os\n",
    "import librosa\n",
    "import librosa.display\n",
    "import matplotlib.pyplot as plt\n",
    "from sklearn.preprocessing import normalize\n",
    "import warnings\n",
    "\n",
    "warnings.filterwarnings(\"ignore\")\n",
    "import numpy as np\n",
    "import pickle\n",
    "import joblib\n",
    "from sklearn.model_selection import train_test_split\n",
    "from keras import models, layers\n",
    "import tensorflow as tf"
   ]
  },
  {
   "cell_type": "code",
   "execution_count": 2,
   "metadata": {},
   "outputs": [
    {
     "data": {
      "text/html": [
       "<div>\n",
       "<style scoped>\n",
       "    .dataframe tbody tr th:only-of-type {\n",
       "        vertical-align: middle;\n",
       "    }\n",
       "\n",
       "    .dataframe tbody tr th {\n",
       "        vertical-align: top;\n",
       "    }\n",
       "\n",
       "    .dataframe thead th {\n",
       "        text-align: right;\n",
       "    }\n",
       "</style>\n",
       "<table border=\"1\" class=\"dataframe\">\n",
       "  <thead>\n",
       "    <tr style=\"text-align: right;\">\n",
       "      <th></th>\n",
       "      <th>recording_id</th>\n",
       "      <th>species_id</th>\n",
       "      <th>songtype_id</th>\n",
       "      <th>t_min</th>\n",
       "      <th>f_min</th>\n",
       "      <th>t_max</th>\n",
       "      <th>f_max</th>\n",
       "    </tr>\n",
       "  </thead>\n",
       "  <tbody>\n",
       "    <tr>\n",
       "      <th>0</th>\n",
       "      <td>003bec244</td>\n",
       "      <td>14</td>\n",
       "      <td>1</td>\n",
       "      <td>44.5440</td>\n",
       "      <td>2531.250</td>\n",
       "      <td>45.1307</td>\n",
       "      <td>5531.25</td>\n",
       "    </tr>\n",
       "    <tr>\n",
       "      <th>1</th>\n",
       "      <td>006ab765f</td>\n",
       "      <td>23</td>\n",
       "      <td>1</td>\n",
       "      <td>39.9615</td>\n",
       "      <td>7235.160</td>\n",
       "      <td>46.0452</td>\n",
       "      <td>11283.40</td>\n",
       "    </tr>\n",
       "    <tr>\n",
       "      <th>2</th>\n",
       "      <td>007f87ba2</td>\n",
       "      <td>12</td>\n",
       "      <td>1</td>\n",
       "      <td>39.1360</td>\n",
       "      <td>562.500</td>\n",
       "      <td>42.2720</td>\n",
       "      <td>3281.25</td>\n",
       "    </tr>\n",
       "    <tr>\n",
       "      <th>3</th>\n",
       "      <td>0099c367b</td>\n",
       "      <td>17</td>\n",
       "      <td>4</td>\n",
       "      <td>51.4206</td>\n",
       "      <td>1464.260</td>\n",
       "      <td>55.1996</td>\n",
       "      <td>4565.04</td>\n",
       "    </tr>\n",
       "    <tr>\n",
       "      <th>4</th>\n",
       "      <td>009b760e6</td>\n",
       "      <td>10</td>\n",
       "      <td>1</td>\n",
       "      <td>50.0854</td>\n",
       "      <td>947.461</td>\n",
       "      <td>52.5293</td>\n",
       "      <td>10852.70</td>\n",
       "    </tr>\n",
       "  </tbody>\n",
       "</table>\n",
       "</div>"
      ],
      "text/plain": [
       "  recording_id  species_id  songtype_id    t_min     f_min    t_max     f_max\n",
       "0    003bec244          14            1  44.5440  2531.250  45.1307   5531.25\n",
       "1    006ab765f          23            1  39.9615  7235.160  46.0452  11283.40\n",
       "2    007f87ba2          12            1  39.1360   562.500  42.2720   3281.25\n",
       "3    0099c367b          17            4  51.4206  1464.260  55.1996   4565.04\n",
       "4    009b760e6          10            1  50.0854   947.461  52.5293  10852.70"
      ]
     },
     "execution_count": 2,
     "metadata": {},
     "output_type": "execute_result"
    }
   ],
   "source": [
    "df = pd.read_csv(\"train_tp.csv\")\n",
    "df.head()"
   ]
  },
  {
   "cell_type": "code",
   "execution_count": 3,
   "metadata": {},
   "outputs": [
    {
     "data": {
      "text/html": [
       "<div>\n",
       "<style scoped>\n",
       "    .dataframe tbody tr th:only-of-type {\n",
       "        vertical-align: middle;\n",
       "    }\n",
       "\n",
       "    .dataframe tbody tr th {\n",
       "        vertical-align: top;\n",
       "    }\n",
       "\n",
       "    .dataframe thead th {\n",
       "        text-align: right;\n",
       "    }\n",
       "</style>\n",
       "<table border=\"1\" class=\"dataframe\">\n",
       "  <thead>\n",
       "    <tr style=\"text-align: right;\">\n",
       "      <th></th>\n",
       "      <th>recording_id</th>\n",
       "      <th>species_id</th>\n",
       "      <th>songtype_id</th>\n",
       "      <th>t_min</th>\n",
       "      <th>f_min</th>\n",
       "      <th>t_max</th>\n",
       "      <th>f_max</th>\n",
       "    </tr>\n",
       "  </thead>\n",
       "  <tbody>\n",
       "    <tr>\n",
       "      <th>289</th>\n",
       "      <td>3b0e345fc</td>\n",
       "      <td>9</td>\n",
       "      <td>1</td>\n",
       "      <td>51.8027</td>\n",
       "      <td>843.75</td>\n",
       "      <td>55.3653</td>\n",
       "      <td>5718.75</td>\n",
       "    </tr>\n",
       "  </tbody>\n",
       "</table>\n",
       "</div>"
      ],
      "text/plain": [
       "    recording_id  species_id  songtype_id    t_min   f_min    t_max    f_max\n",
       "289    3b0e345fc           9            1  51.8027  843.75  55.3653  5718.75"
      ]
     },
     "execution_count": 3,
     "metadata": {},
     "output_type": "execute_result"
    }
   ],
   "source": [
    "df.loc[df[\"recording_id\"] == \"3b0e345fc\"]"
   ]
  },
  {
   "cell_type": "code",
   "execution_count": 4,
   "metadata": {},
   "outputs": [
    {
     "data": {
      "text/plain": [
       "<librosa.display.AdaptiveWaveplot at 0x209b7517520>"
      ]
     },
     "execution_count": 4,
     "metadata": {},
     "output_type": "execute_result"
    },
    {
     "data": {
      "image/png": "[encoded data removed]",
      "text/plain": [
       "<Figure size 640x480 with 1 Axes>"
      ]
     },
     "metadata": {},
     "output_type": "display_data"
    }
   ],
   "source": [
    "sample_num = 3  # pick a file to display\n",
    "# get the filename\n",
    "filename = df.recording_id[sample_num] + str(\".flac\")\n",
    "# define the beginning time of the signal\n",
    "tstart = df.t_min[sample_num]\n",
    "tend = df.t_max[sample_num]  # define the end time of the signal\n",
    "y, sr = librosa.load(\"train/\" + str(filename))  # load the file\n",
    "librosa.display.waveshow(y, sr=sr, x_axis=\"time\", color=\"cyan\")"
   ]
  },
  {
   "cell_type": "code",
   "execution_count": 5,
   "metadata": {},
   "outputs": [],
   "source": [
    "# This code was adapted from Nicolas Gervais on https://stackoverflow.com/questions/59241216/padding-numpy-arrays-to-a-specific-size on 1/10/2021\n",
    "def padding(array, xx, yy):\n",
    "    \"\"\"\n",
    "    :param array: numpy array\n",
    "    :param xx: desired height\n",
    "    :param yy: desirex width\n",
    "    :return: padded array\n",
    "    \"\"\"\n",
    "\n",
    "    h = array.shape[0]\n",
    "    w = array.shape[1]\n",
    "    a = max((xx - h) // 2, 0)\n",
    "    aa = max(0, xx - a - h)\n",
    "    b = max(0, (yy - w) // 2)\n",
    "    bb = max(yy - b - w, 0)\n",
    "    return np.pad(array, pad_width=((a, aa), (b, bb)), mode=\"constant\")"
   ]
  },
  {
   "cell_type": "code",
   "execution_count": 6,
   "metadata": {},
   "outputs": [],
   "source": [
    "def generate_features(y_cut):\n",
    "    max_size = 1000  # my max audio file feature width\n",
    "    stft = padding(\n",
    "        np.abs(librosa.stft(y_cut, n_fft=255, hop_length=512)), 128, max_size\n",
    "    )\n",
    "    MFCCs = padding(\n",
    "        librosa.feature.mfcc(y_cut, n_fft=255, hop_length=512, n_mfcc=128),\n",
    "        128,\n",
    "        max_size,\n",
    "    )\n",
    "    spec_centroid = librosa.feature.spectral_centroid(y=y_cut, sr=sr)\n",
    "    chroma_stft = librosa.feature.chroma_stft(y=y_cut, sr=sr)\n",
    "    spec_bw = librosa.feature.spectral_bandwidth(y=y_cut, sr=sr)\n",
    "    # Now the padding part\n",
    "    image = np.array([padding(normalize(spec_bw), 1, max_size)]).reshape(1, max_size)\n",
    "    image = np.append(image, padding(normalize(spec_centroid), 1, max_size), axis=0)\n",
    "    # repeat the padded spec_bw,spec_centroid and chroma stft until they are stft and MFCC-sized\n",
    "    for i in range(0, 9):\n",
    "        image = np.append(image, padding(normalize(spec_bw), 1, max_size), axis=0)\n",
    "        image = np.append(image, padding(normalize(spec_centroid), 1, max_size), axis=0)\n",
    "        image = np.append(image, padding(normalize(chroma_stft), 12, max_size), axis=0)\n",
    "    image = np.dstack((image, np.abs(stft)))\n",
    "    image = np.dstack((image, MFCCs))\n",
    "    return image"
   ]
  },
  {
   "cell_type": "code",
   "execution_count": 8,
   "metadata": {},
   "outputs": [
    {
     "ename": "ValueError",
     "evalue": "cannot reshape array of size 2584 into shape (1,1000)",
     "output_type": "error",
     "traceback": [
      "\u001b[1;31m---------------------------------------------------------------------------\u001b[0m",
      "\u001b[1;31mValueError\u001b[0m                                Traceback (most recent call last)",
      "Cell \u001b[1;32mIn [8], line 1\u001b[0m\n\u001b[1;32m----> 1\u001b[0m img \u001b[39m=\u001b[39m generate_features(y)\n",
      "Cell \u001b[1;32mIn [6], line 15\u001b[0m, in \u001b[0;36mgenerate_features\u001b[1;34m(y_cut)\u001b[0m\n\u001b[0;32m     13\u001b[0m spec_bw \u001b[39m=\u001b[39m librosa\u001b[39m.\u001b[39mfeature\u001b[39m.\u001b[39mspectral_bandwidth(y\u001b[39m=\u001b[39my_cut, sr\u001b[39m=\u001b[39msr)\n\u001b[0;32m     14\u001b[0m \u001b[39m# Now the padding part\u001b[39;00m\n\u001b[1;32m---> 15\u001b[0m image \u001b[39m=\u001b[39m np\u001b[39m.\u001b[39;49marray([padding(normalize(spec_bw), \u001b[39m1\u001b[39;49m, max_size)])\u001b[39m.\u001b[39;49mreshape(\u001b[39m1\u001b[39;49m, max_size)\n\u001b[0;32m     16\u001b[0m image \u001b[39m=\u001b[39m np\u001b[39m.\u001b[39mappend(image, padding(normalize(spec_centroid), \u001b[39m1\u001b[39m, max_size), axis\u001b[39m=\u001b[39m\u001b[39m0\u001b[39m)\n\u001b[0;32m     17\u001b[0m \u001b[39m# repeat the padded spec_bw,spec_centroid and chroma stft until they are stft and MFCC-sized\u001b[39;00m\n",
      "\u001b[1;31mValueError\u001b[0m: cannot reshape array of size 2584 into shape (1,1000)"
     ]
    }
   ],
   "source": [
    "img = generate_features(y)"
   ]
  },
  {
   "cell_type": "code",
   "execution_count": null,
   "metadata": {},
   "outputs": [],
   "source": [
    "X = df.drop(\"species_id\", axis=1)\n",
    "y = df.species_id"
   ]
  },
  {
   "cell_type": "code",
   "execution_count": null,
   "metadata": {},
   "outputs": [
    {
     "name": "stdout",
     "output_type": "stream",
     "text": [
      "(912, 6) (304, 6)\n"
     ]
    }
   ],
   "source": [
    "# Split once to get the test and training set\n",
    "X_train, X_test, y_train, y_test = train_test_split(\n",
    "    X, y, test_size=0.25, random_state=123, stratify=y\n",
    ")\n",
    "print(X_train.shape, X_test.shape)"
   ]
  },
  {
   "cell_type": "code",
   "execution_count": null,
   "metadata": {},
   "outputs": [
    {
     "name": "stdout",
     "output_type": "stream",
     "text": [
      "(684, 6) (304, 6) (228, 6) 684 304 228\n"
     ]
    }
   ],
   "source": [
    "# Split twice to get the validation set\n",
    "X_train, X_val, y_train, y_val = train_test_split(\n",
    "    X_train, y_train, test_size=0.25, random_state=123\n",
    ")\n",
    "print(X_train.shape, X_test.shape, X_val.shape, len(y_train), len(y_test), len(y_val))"
   ]
  },
  {
   "cell_type": "code",
   "execution_count": null,
   "metadata": {},
   "outputs": [
    {
     "name": "stdout",
     "output_type": "stream",
     "text": [
      "species_id: 15\n",
      "species_id: 17\n",
      "species_id: 14\n",
      "species_id: 13\n",
      "species_id: 22\n",
      "species_id: 18\n",
      "species_id: 0\n",
      "species_id: 6\n",
      "species_id: 23\n",
      "species_id: 3\n",
      "species_id: 4\n",
      "species_id: 16\n",
      "species_id: 10\n",
      "species_id: 19\n",
      "species_id: 2\n",
      "species_id: 7\n",
      "species_id: 5\n",
      "species_id: 1\n",
      "species_id: 8\n",
      "species_id: 20\n",
      "species_id: 21\n",
      "species_id: 12\n",
      "species_id: 11\n",
      "species_id: 9\n",
      "species_id: 17\n",
      "species_id: 11\n",
      "species_id: 23\n",
      "species_id: 19\n",
      "species_id: 4\n",
      "species_id: 2\n",
      "species_id: 16\n",
      "species_id: 9\n",
      "species_id: 21\n",
      "species_id: 20\n",
      "species_id: 22\n",
      "species_id: 15\n",
      "species_id: 0\n",
      "species_id: 14\n",
      "species_id: 3\n",
      "species_id: 1\n",
      "species_id: 6\n",
      "species_id: 7\n",
      "species_id: 18\n",
      "species_id: 5\n",
      "species_id: 13\n",
      "species_id: 12\n",
      "species_id: 10\n",
      "species_id: 8\n"
     ]
    }
   ],
   "source": [
    "def get_features(df_in):\n",
    "    features = []\n",
    "    labels = []  # empty array to store labels\n",
    "    # For each species, determine how many augmentations are needed\n",
    "    df_in = df_in.reset_index()\n",
    "    for i in df_in.species_id.unique():\n",
    "        print(\"species_id:\", i)\n",
    "        # all the file indices with the same species_id\n",
    "        filelist = df_in.loc[df_in.species_id == i].index\n",
    "    for j in range(0, len(filelist)):\n",
    "        filename = df_in.iloc[filelist[j]].recording_id + str(\n",
    "            \".flac\"\n",
    "        )  # get the filename\n",
    "        # define the beginning time of the signal\n",
    "        tstart = df_in.iloc[filelist[j]].t_min\n",
    "        tend = df_in.iloc[filelist[j]].t_max  # end of signal\n",
    "        recording_id = df_in.iloc[filelist[j]].recording_id\n",
    "        species_id = i\n",
    "        songtype_id = df_in.iloc[filelist[j]].songtype_id\n",
    "        # Load the file\n",
    "        y, sr = librosa.load(f\"train/{filename}\", sr=28000)\n",
    "        # cut the file to signal start and end\n",
    "        y_cut = y[int(round(tstart * sr)) : int(round(tend * sr))]\n",
    "        # generate features & output numpy array\n",
    "        data = generate_features(y_cut)\n",
    "        features.append(data[np.newaxis, ...])\n",
    "        labels.append(species_id)\n",
    "    output = np.concatenate(features, axis=0)\n",
    "    return (np.array(output), labels)\n",
    "\n",
    "\n",
    "# use get_features to calculate and store the features\n",
    "test_features, test_labels = get_features(pd.concat([X_test, y_test], axis=1))\n",
    "train_features, train_labels = get_features(pd.concat([X_train, y_train], axis=1))"
   ]
  },
  {
   "cell_type": "code",
   "execution_count": null,
   "metadata": {},
   "outputs": [],
   "source": [
    "X_train = np.array((X_train - np.min(X_train)) / (np.max(X_train) - np.min(X_train)))\n",
    "X_test = np.array((X_test - np.min(X_test)) / (np.max(X_test) - np.min(X_test)))\n",
    "X_train = X_train / np.std(X_train)\n",
    "X_test = X_test / np.std(X_test)\n",
    "y_train = np.array(y_train)\n",
    "y_test = np.array(y_test)"
   ]
  },
  {
   "cell_type": "code",
   "execution_count": null,
   "metadata": {},
   "outputs": [],
   "source": [
    "input_shape = (128, 1000, 3)\n",
    "CNNmodel = models.Sequential()\n",
    "CNNmodel.add(layers.Conv2D(32, (3, 3), activation=\"relu\", input_shape=input_shape))\n",
    "CNNmodel.add(layers.MaxPooling2D((2, 2)))\n",
    "CNNmodel.add(layers.Dropout(0.2))\n",
    "CNNmodel.add(layers.Conv2D(64, (3, 3), activation=\"relu\"))\n",
    "CNNmodel.add(layers.MaxPooling2D((2, 2)))\n",
    "CNNmodel.add(layers.Dropout(0.2))\n",
    "CNNmodel.add(layers.Conv2D(64, (3, 3), activation=\"relu\"))\n",
    "CNNmodel.add(layers.Flatten())\n",
    "CNNmodel.add(layers.Dense(64, activation=\"relu\"))\n",
    "CNNmodel.add(layers.Dropout(0.2))\n",
    "CNNmodel.add(layers.Dense(32, activation=\"relu\"))\n",
    "CNNmodel.add(layers.Dense(24, activation=\"softmax\"))"
   ]
  },
  {
   "cell_type": "code",
   "execution_count": null,
   "metadata": {},
   "outputs": [],
   "source": [
    "CNNmodel.compile(\n",
    "    optimizer=\"adam\",\n",
    "    loss=tf.keras.losses.SparseCategoricalCrossentropy(from_logits=False),\n",
    "    metrics=[\"accuracy\"],\n",
    ")"
   ]
  },
  {
   "cell_type": "code",
   "execution_count": null,
   "metadata": {},
   "outputs": [
    {
     "ename": "ValueError",
     "evalue": "Failed to find data adapter that can handle input: <class 'numpy.ndarray'>, (<class 'list'> containing values of types {\"<class 'numpy.int64'>\"})",
     "output_type": "error",
     "traceback": [
      "\u001b[1;31m---------------------------------------------------------------------------\u001b[0m",
      "\u001b[1;31mValueError\u001b[0m                                Traceback (most recent call last)",
      "Cell \u001b[1;32mIn [98], line 1\u001b[0m\n\u001b[1;32m----> 1\u001b[0m history \u001b[39m=\u001b[39m CNNmodel\u001b[39m.\u001b[39;49mfit(train_features, train_labels, epochs\u001b[39m=\u001b[39;49m\u001b[39m20\u001b[39;49m, validation_data\u001b[39m=\u001b[39;49m (test_features, test_labels))\n",
      "File \u001b[1;32me:\\coding\\github\\test_project_audio_cnn\\rfcx-species-audio-detection\\venv\\lib\\site-packages\\keras\\utils\\traceback_utils.py:70\u001b[0m, in \u001b[0;36mfilter_traceback.<locals>.error_handler\u001b[1;34m(*args, **kwargs)\u001b[0m\n\u001b[0;32m     67\u001b[0m     filtered_tb \u001b[39m=\u001b[39m _process_traceback_frames(e\u001b[39m.\u001b[39m__traceback__)\n\u001b[0;32m     68\u001b[0m     \u001b[39m# To get the full stack trace, call:\u001b[39;00m\n\u001b[0;32m     69\u001b[0m     \u001b[39m# `tf.debugging.disable_traceback_filtering()`\u001b[39;00m\n\u001b[1;32m---> 70\u001b[0m     \u001b[39mraise\u001b[39;00m e\u001b[39m.\u001b[39mwith_traceback(filtered_tb) \u001b[39mfrom\u001b[39;00m \u001b[39mNone\u001b[39m\n\u001b[0;32m     71\u001b[0m \u001b[39mfinally\u001b[39;00m:\n\u001b[0;32m     72\u001b[0m     \u001b[39mdel\u001b[39;00m filtered_tb\n",
      "File \u001b[1;32me:\\coding\\github\\test_project_audio_cnn\\rfcx-species-audio-detection\\venv\\lib\\site-packages\\keras\\engine\\data_adapter.py:1083\u001b[0m, in \u001b[0;36mselect_data_adapter\u001b[1;34m(x, y)\u001b[0m\n\u001b[0;32m   1080\u001b[0m adapter_cls \u001b[39m=\u001b[39m [\u001b[39mcls\u001b[39m \u001b[39mfor\u001b[39;00m \u001b[39mcls\u001b[39m \u001b[39min\u001b[39;00m ALL_ADAPTER_CLS \u001b[39mif\u001b[39;00m \u001b[39mcls\u001b[39m\u001b[39m.\u001b[39mcan_handle(x, y)]\n\u001b[0;32m   1081\u001b[0m \u001b[39mif\u001b[39;00m \u001b[39mnot\u001b[39;00m adapter_cls:\n\u001b[0;32m   1082\u001b[0m     \u001b[39m# TODO(scottzhu): This should be a less implementation-specific error.\u001b[39;00m\n\u001b[1;32m-> 1083\u001b[0m     \u001b[39mraise\u001b[39;00m \u001b[39mValueError\u001b[39;00m(\n\u001b[0;32m   1084\u001b[0m         \u001b[39m\"\u001b[39m\u001b[39mFailed to find data adapter that can handle \u001b[39m\u001b[39m\"\u001b[39m\n\u001b[0;32m   1085\u001b[0m         \u001b[39m\"\u001b[39m\u001b[39minput: \u001b[39m\u001b[39m{}\u001b[39;00m\u001b[39m, \u001b[39m\u001b[39m{}\u001b[39;00m\u001b[39m\"\u001b[39m\u001b[39m.\u001b[39mformat(_type_name(x), _type_name(y))\n\u001b[0;32m   1086\u001b[0m     )\n\u001b[0;32m   1087\u001b[0m \u001b[39melif\u001b[39;00m \u001b[39mlen\u001b[39m(adapter_cls) \u001b[39m>\u001b[39m \u001b[39m1\u001b[39m:\n\u001b[0;32m   1088\u001b[0m     \u001b[39mraise\u001b[39;00m \u001b[39mRuntimeError\u001b[39;00m(\n\u001b[0;32m   1089\u001b[0m         \u001b[39m\"\u001b[39m\u001b[39mData adapters should be mutually exclusive for \u001b[39m\u001b[39m\"\u001b[39m\n\u001b[0;32m   1090\u001b[0m         \u001b[39m\"\u001b[39m\u001b[39mhandling inputs. Found multiple adapters \u001b[39m\u001b[39m{}\u001b[39;00m\u001b[39m to handle \u001b[39m\u001b[39m\"\u001b[39m\n\u001b[0;32m   1091\u001b[0m         \u001b[39m\"\u001b[39m\u001b[39minput: \u001b[39m\u001b[39m{}\u001b[39;00m\u001b[39m, \u001b[39m\u001b[39m{}\u001b[39;00m\u001b[39m\"\u001b[39m\u001b[39m.\u001b[39mformat(adapter_cls, _type_name(x), _type_name(y))\n\u001b[0;32m   1092\u001b[0m     )\n",
      "\u001b[1;31mValueError\u001b[0m: Failed to find data adapter that can handle input: <class 'numpy.ndarray'>, (<class 'list'> containing values of types {\"<class 'numpy.int64'>\"})"
     ]
    }
   ],
   "source": [
    "history = CNNmodel.fit(\n",
    "    train_features,\n",
    "    train_labels,\n",
    "    epochs=20,\n",
    "    validation_data=(test_features, test_labels),\n",
    ")"
   ]
  },
  {
   "cell_type": "code",
   "execution_count": null,
   "metadata": {},
   "outputs": [
    {
     "name": "stdout",
     "output_type": "stream",
     "text": [
      "Model: \"sequential_4\"\n",
      "_________________________________________________________________\n",
      " Layer (type)                Output Shape              Param #   \n",
      "=================================================================\n",
      " conv2d_12 (Conv2D)          (None, 126, 998, 32)      896       \n",
      "                                                                 \n",
      " max_pooling2d_8 (MaxPooling  (None, 63, 499, 32)      0         \n",
      " 2D)                                                             \n",
      "                                                                 \n",
      " flatten_4 (Flatten)         (None, 1005984)           0         \n",
      "                                                                 \n",
      " dense_12 (Dense)            (None, 32)                32191520  \n",
      "                                                                 \n",
      " dense_13 (Dense)            (None, 24)                792       \n",
      "                                                                 \n",
      "=================================================================\n",
      "Total params: 32,193,208\n",
      "Trainable params: 32,193,208\n",
      "Non-trainable params: 0\n",
      "_________________________________________________________________\n"
     ]
    }
   ],
   "source": [
    "input_shape = (128, 1000, 3)\n",
    "CNNmodel = models.Sequential()\n",
    "CNNmodel.add(layers.Conv2D(32, (3, 3), activation=\"relu\", input_shape=input_shape))\n",
    "CNNmodel.add(layers.MaxPooling2D((2, 2)))\n",
    "CNNmodel.add(layers.Flatten())\n",
    "CNNmodel.add(layers.Dense(32, activation=\"relu\"))\n",
    "CNNmodel.add(layers.Dense(24, activation=\"softmax\"))\n",
    "CNNmodel.summary()"
   ]
  },
  {
   "cell_type": "code",
   "execution_count": null,
   "metadata": {},
   "outputs": [
    {
     "ename": "NameError",
     "evalue": "name 'history' is not defined",
     "output_type": "error",
     "traceback": [
      "\u001b[1;31m---------------------------------------------------------------------------\u001b[0m",
      "\u001b[1;31mNameError\u001b[0m                                 Traceback (most recent call last)",
      "Cell \u001b[1;32mIn [92], line 2\u001b[0m\n\u001b[0;32m      1\u001b[0m \u001b[39m#Adapted from Deep Learning with Python by Francois Chollet, 2018\u001b[39;00m\n\u001b[1;32m----> 2\u001b[0m history_dict\u001b[39m=\u001b[39mhistory\u001b[39m.\u001b[39mhistory\n\u001b[0;32m      3\u001b[0m loss_values\u001b[39m=\u001b[39mhistory_dict[\u001b[39m'\u001b[39m\u001b[39mloss\u001b[39m\u001b[39m'\u001b[39m]\n\u001b[0;32m      4\u001b[0m acc_values\u001b[39m=\u001b[39mhistory_dict[\u001b[39m'\u001b[39m\u001b[39maccuracy\u001b[39m\u001b[39m'\u001b[39m]\n",
      "\u001b[1;31mNameError\u001b[0m: name 'history' is not defined"
     ]
    }
   ],
   "source": [
    "# Adapted from Deep Learning with Python by Francois Chollet, 2018\n",
    "history_dict = history.history\n",
    "loss_values = history_dict[\"loss\"]\n",
    "acc_values = history_dict[\"accuracy\"]\n",
    "val_loss_values = history_dict[\"val_loss\"]\n",
    "val_acc_values = history_dict[\"val_accuracy\"]\n",
    "epochs = range(1, 21)\n",
    "fig, (ax1, ax2) = plt.subplots(1, 2, figsize=(15, 5))\n",
    "ax1.plot(epochs, loss_values, \"bo\", label=\"Training Loss\")\n",
    "ax1.plot(epochs, val_loss_values, \"orange\", label=\"Validation Loss\")\n",
    "ax1.set_title(\"Training and validation loss\")\n",
    "ax1.set_xlabel(\"Epochs\")\n",
    "ax1.set_ylabel(\"Loss\")\n",
    "ax1.legend()\n",
    "ax2.plot(epochs, acc_values, \"bo\", label=\"Training accuracy\")\n",
    "ax2.plot(epochs, val_acc_values, \"orange\", label=\"Validation accuracy\")\n",
    "ax2.set_title(\"Training and validation accuracy\")\n",
    "ax2.set_xlabel(\"Epochs\")\n",
    "ax2.set_ylabel(\"Accuracy\")\n",
    "ax2.legend()\n",
    "plt.show()"
   ]
  }
 ],
 "metadata": {
  "kernelspec": {
   "display_name": "Python 3.10.8 ('venv': venv)",
   "language": "python",
   "name": "python3"
  },
  "language_info": {
   "codemirror_mode": {
    "name": "ipython",
    "version": 3
   },
   "file_extension": ".py",
   "mimetype": "text/x-python",
   "name": "python",
   "nbconvert_exporter": "python",
   "pygments_lexer": "ipython3",
   "version": "3.10.8"
  },
  "orig_nbformat": 4,
  "vscode": {
   "interpreter": {
    "hash": "62a753bdee04e4331bca995ddc0459c11c39187c6e9b4d43311428dd6e14218d"
   }
  }
 },
 "nbformat": 4,
 "nbformat_minor": 2
}
